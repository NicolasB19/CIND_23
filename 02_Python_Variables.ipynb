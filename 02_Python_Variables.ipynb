{
  "nbformat": 4,
  "nbformat_minor": 0,
  "metadata": {
    "colab": {
      "provenance": [],
      "authorship_tag": "ABX9TyOtESdRnCIkHJmhw4xrGPID",
      "include_colab_link": true
    },
    "kernelspec": {
      "name": "python3",
      "display_name": "Python 3"
    },
    "language_info": {
      "name": "python"
    }
  },
  "cells": [
    {
      "cell_type": "markdown",
      "metadata": {
        "id": "view-in-github",
        "colab_type": "text"
      },
      "source": [
        "<a href=\"https://colab.research.google.com/github/NicolasB19/CinD_23/blob/main/02_Python_Variables.ipynb\" target=\"_parent\"><img src=\"https://colab.research.google.com/assets/colab-badge.svg\" alt=\"Open In Colab\"/></a>"
      ]
    },
    {
      "cell_type": "markdown",
      "source": [
        "# **1. What is a variable?**\n",
        "A variabloe is a ' container' , in the sense that it *stores* values.\n"
      ],
      "metadata": {
        "id": "ISr8ED0SwoFi"
      }
    },
    {
      "cell_type": "code",
      "source": [
        "# Example \n",
        "a = 2.57\n",
        "print(a)"
      ],
      "metadata": {
        "colab": {
          "base_uri": "https://localhost:8080/"
        },
        "id": "VE54ClRtxNNC",
        "outputId": "3806b481-9033-43a6-e481-8de565fe01a0"
      },
      "execution_count": 4,
      "outputs": [
        {
          "output_type": "stream",
          "name": "stdout",
          "text": [
            "2.57\n"
          ]
        }
      ]
    },
    {
      "cell_type": "code",
      "source": [
        "# Example\n",
        "num = 8.53214794\n",
        "pi = 0\n",
        "pf = 7\n",
        "\n",
        "print(\"The approximation of\",num, \"with\")\n",
        "print(\"decimals\" , \" Result\")\n",
        "for i in range (pi,pf+1) : \n",
        "  print(i , \"\\t\" , round(num,i)) "
      ],
      "metadata": {
        "colab": {
          "base_uri": "https://localhost:8080/"
        },
        "id": "GCfHh2AHx9rZ",
        "outputId": "0fcf624d-1241-438f-fcb3-ee08749a31be"
      },
      "execution_count": 6,
      "outputs": [
        {
          "output_type": "stream",
          "name": "stdout",
          "text": [
            "The approximation of 8.53214794 with\n",
            "decimals  Result\n",
            "0 \t 9.0\n",
            "1 \t 8.5\n",
            "2 \t 8.53\n",
            "3 \t 8.532\n",
            "4 \t 8.5321\n",
            "5 \t 8.53215\n",
            "6 \t 8.532148\n",
            "7 \t 8.5321479\n"
          ]
        }
      ]
    }
  ]
}