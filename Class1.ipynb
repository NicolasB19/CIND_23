{
  "nbformat": 4,
  "nbformat_minor": 0,
  "metadata": {
    "colab": {
      "provenance": [],
      "toc_visible": true,
      "authorship_tag": "ABX9TyNYuPCmr8yDinwj/qIVKGeh",
      "include_colab_link": true
    },
    "kernelspec": {
      "name": "ir",
      "display_name": "R"
    },
    "language_info": {
      "name": "R"
    }
  },
  "cells": [
    {
      "cell_type": "markdown",
      "metadata": {
        "id": "view-in-github",
        "colab_type": "text"
      },
      "source": [
        "<a href=\"https://colab.research.google.com/github/NicolasB19/CinD_23/blob/main/Class1.ipynb\" target=\"_parent\"><img src=\"https://colab.research.google.com/assets/colab-badge.svg\" alt=\"Open In Colab\"/></a>"
      ]
    },
    {
      "cell_type": "code",
      "metadata": {
        "id": "pnviJTeSYL_R"
      },
      "source": [],
      "execution_count": null,
      "outputs": []
    },
    {
      "cell_type": "markdown",
      "source": [
        "#Title\n",
        "##Subtitle"
      ],
      "metadata": {
        "id": "j8pmCRjYcdIP"
      }
    },
    {
      "cell_type": "markdown",
      "source": [
        "##section1"
      ],
      "metadata": {
        "id": "VCOLl6P4eNZK"
      }
    },
    {
      "cell_type": "markdown",
      "source": [
        "##subsection1"
      ],
      "metadata": {
        "id": "ZccvUATyesEZ"
      }
    },
    {
      "cell_type": "markdown",
      "source": [
        "# Text formating"
      ],
      "metadata": {
        "id": "-N7rqjJ5e4Xy"
      }
    },
    {
      "cell_type": "markdown",
      "source": [
        "## Bold\n",
        "using ´**´ :\n",
        "**Nicolas** = **Nicolas**\n",
        "\n",
        "## Italic\n",
        "Use `*`\n",
        "`*Bocachica*` = *Bocachica*\n",
        "\n",
        "Nicolas Bocachica\n",
        "**Nicolas Bocachica**\n",
        "*Bocachica*\n",
        "***Jimenez***"
      ],
      "metadata": {
        "id": "JLqjirX1e9Ha"
      }
    },
    {
      "cell_type": "markdown",
      "source": [
        "## Unordered List \n",
        "**List os sports:**\n",
        "* Football\n",
        "* Tenis\n",
        "* Soccer"
      ],
      "metadata": {
        "id": "mhhL_PNljIqa"
      }
    },
    {
      "cell_type": "markdown",
      "source": [
        "## Ordered List\n",
        "** The best signgers:**\n",
        "1. The weekend\n",
        "2. Feid\n",
        "3. "
      ],
      "metadata": {
        "id": "tE7DDHMLjvaj"
      }
    },
    {
      "cell_type": "markdown",
      "source": [
        "## Nested Lists\n",
        "**To - Do list**\n",
        "1. Trinning\n",
        "\n",
        "  1.1. Wke-up early\n",
        "\n",
        "  1.2. Run 10 km\n",
        "\n",
        "2. Rest\n",
        "\n"
      ],
      "metadata": {
        "id": "CWipDqx7kXLj"
      }
    },
    {
      "cell_type": "markdown",
      "source": [
        "**To-Do for tomorrow**\n",
        "1. *Wake up 7am*\n",
        "\n",
        "  1.1. Breakfast\n",
        "\n",
        "  1.2. Wash Teeths\n",
        "\n",
        "2. *Go to the gym*\n",
        "\n",
        "  2.1. Do exercise\n",
        "\n",
        "3. *Go to University*\n",
        "\n",
        "\n",
        "\n",
        "\n",
        "\n"
      ],
      "metadata": {
        "id": "fH0dWMuJlnAh"
      }
    },
    {
      "cell_type": "markdown",
      "source": [
        "## Insert a link\n",
        "[La Salle](https://www.lasalle.edu.co/)\n"
      ],
      "metadata": {
        "id": "sBqIvEtSobgP"
      }
    },
    {
      "cell_type": "markdown",
      "source": [
        "## Insert an image\n",
        "![messi.jfif](data:image/jpeg;base64,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)"
      ],
      "metadata": {
        "id": "XxgRHZ72pFpe"
      }
    },
    {
      "cell_type": "markdown",
      "source": [
        "## Tables\n",
        "| a | b | c | \n",
        "|---|---|---|\n",
        "| 1 | 2 | 3 |\n",
        "\n",
        "\n",
        "| Name  | Relationship| Age |\n",
        "|------ |-------------|-----|\n",
        "| Diana |    Mom      | 45  |\n",
        "| Sebas | Friend      | 22  |\n",
        "| Valen | Friend      | 23  |\n",
        "\n"
      ],
      "metadata": {
        "id": "ziTyWHDMqTl4"
      }
    }
  ]
}