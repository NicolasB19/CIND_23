{
  "nbformat": 4,
  "nbformat_minor": 0,
  "metadata": {
    "colab": {
      "provenance": [],
      "toc_visible": true,
      "authorship_tag": "ABX9TyMLOwXluK3IIy1tfZzEqYz3",
      "include_colab_link": true
    },
    "kernelspec": {
      "name": "ir",
      "display_name": "R"
    },
    "language_info": {
      "name": "R"
    }
  },
  "cells": [
    {
      "cell_type": "markdown",
      "metadata": {
        "id": "view-in-github",
        "colab_type": "text"
      },
      "source": [
        "<a href=\"https://colab.research.google.com/github/NicolasB19/CinD_23/blob/main/Class1.ipynb\" target=\"_parent\"><img src=\"https://colab.research.google.com/assets/colab-badge.svg\" alt=\"Open In Colab\"/></a>"
      ]
    },
    {
      "cell_type": "code",
      "metadata": {
        "id": "pnviJTeSYL_R"
      },
      "source": [],
      "execution_count": null,
      "outputs": []
    },
    {
      "cell_type": "markdown",
      "source": [
        "#Title\n",
        "##Subtitle"
      ],
      "metadata": {
        "id": "j8pmCRjYcdIP"
      }
    },
    {
      "cell_type": "markdown",
      "source": [
        "##section1"
      ],
      "metadata": {
        "id": "VCOLl6P4eNZK"
      }
    },
    {
      "cell_type": "markdown",
      "source": [
        "##subsection1"
      ],
      "metadata": {
        "id": "ZccvUATyesEZ"
      }
    },
    {
      "cell_type": "markdown",
      "source": [
        "# Text formating"
      ],
      "metadata": {
        "id": "-N7rqjJ5e4Xy"
      }
    },
    {
      "cell_type": "markdown",
      "source": [
        "## Bold\n",
        "using ´**´ :\n",
        "**Nicolas** = **Nicolas**\n",
        "\n",
        "## Italic\n",
        "Use `*`\n",
        "`*Bocachica*` = *Bocachica*\n",
        "\n",
        "Nicolas Bocachica\n",
        "**Nicolas Bocachica**\n",
        "*Bocachica*\n",
        "***Jimenez***"
      ],
      "metadata": {
        "id": "JLqjirX1e9Ha"
      }
    }
  ]
}