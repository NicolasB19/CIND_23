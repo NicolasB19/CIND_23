{
  "nbformat": 4,
  "nbformat_minor": 0,
  "metadata": {
    "colab": {
      "provenance": [],
      "toc_visible": true,
      "authorship_tag": "ABX9TyMjVzAqaZ4ZCBPwg0HrYzsV",
      "include_colab_link": true
    },
    "kernelspec": {
      "name": "python3",
      "display_name": "Python 3"
    },
    "language_info": {
      "name": "python"
    }
  },
  "cells": [
    {
      "cell_type": "markdown",
      "metadata": {
        "id": "view-in-github",
        "colab_type": "text"
      },
      "source": [
        "<a href=\"https://colab.research.google.com/github/NicolasB19/CinD_23/blob/main/01_Python.ipynb\" target=\"_parent\"><img src=\"https://colab.research.google.com/assets/colab-badge.svg\" alt=\"Open In Colab\"/></a>"
      ]
    },
    {
      "cell_type": "code",
      "source": [
        "for i in range (0,11): print(i)"
      ],
      "metadata": {
        "colab": {
          "base_uri": "https://localhost:8080/"
        },
        "id": "1M4tN5f8fy_g",
        "outputId": "51255207-87bc-40df-85d9-b9d2878260aa"
      },
      "execution_count": 1,
      "outputs": [
        {
          "output_type": "stream",
          "name": "stdout",
          "text": [
            "0\n",
            "1\n",
            "2\n",
            "3\n",
            "4\n",
            "5\n",
            "6\n",
            "7\n",
            "8\n",
            "9\n",
            "10\n"
          ]
        }
      ]
    },
    {
      "cell_type": "code",
      "source": [
        "# Example - with Text\n",
        "\n",
        "print(\"Hello world\")\n",
        "print(\"First name: Nicolas\", \"Second name: Andres\")\n",
        "print(\"First name: Nicolas\", \"\\tSecond name: Andres\")\n",
        "print(\"First name: Nicolas\", \"\\nSecond name: Andres\")\n"
      ],
      "metadata": {
        "colab": {
          "base_uri": "https://localhost:8080/"
        },
        "id": "ia-MgssbhKWX",
        "outputId": "62cc076d-13fe-4d30-973e-7a77f1de9d70"
      },
      "execution_count": 6,
      "outputs": [
        {
          "output_type": "stream",
          "name": "stdout",
          "text": [
            "Hello world\n",
            "First name: Nicolas Second name: Andres\n",
            "First name: Nicolas \tSecond name: Andres\n",
            "First name: Nicolas \n",
            "Second name: Andres\n"
          ]
        }
      ]
    },
    {
      "cell_type": "code",
      "source": [
        "# Example - text and numbers\n",
        "\n",
        "print(\"my lucky number is: 10\")"
      ],
      "metadata": {
        "colab": {
          "base_uri": "https://localhost:8080/"
        },
        "id": "wfEmVjAkixMn",
        "outputId": "23973803-72ff-4486-c5c7-8e3f3084baa7"
      },
      "execution_count": 7,
      "outputs": [
        {
          "output_type": "stream",
          "name": "stdout",
          "text": [
            "my lucky number is: 10\n"
          ]
        }
      ]
    },
    {
      "cell_type": "markdown",
      "source": [
        "### **Round**\n",
        "\n",
        "It will tle us the control the decimal positions.\n"
      ],
      "metadata": {
        "id": "k6rocb0LjFcZ"
      }
    },
    {
      "cell_type": "code",
      "source": [
        "# Example \n",
        "# Consider 8.53214794\n",
        "# Lets use round\n",
        "round(8.53214794,0)\n",
        "print(\"8.53214794,0\")\n",
        "round(8.53214794,0)\n",
        "\n",
        "print(\"The approximation of\",8.53214794, \"with\", 0, \"decimals is:\" , round(8.53214794,0))\n",
        "print(\"The approximation of\",8.53214794, \"with\", 1, \"decimals is:\" , round(8.53214794,1))"
      ],
      "metadata": {
        "colab": {
          "base_uri": "https://localhost:8080/"
        },
        "id": "vspN1PWIjpA4",
        "outputId": "b3976a7f-9de2-4a60-ed75-1ab817e2c002"
      },
      "execution_count": 19,
      "outputs": [
        {
          "output_type": "stream",
          "name": "stdout",
          "text": [
            "8.53214794,0\n",
            "The approximation of 8.53214794 with 0 decimals is: 9.0\n",
            "The approximation of 8.53214794 with 1 /tdecimals is: 8.5\n"
          ]
        }
      ]
    },
    {
      "cell_type": "code",
      "source": [
        "print(0, \"\\t\" , round(8.53214794,0))\n",
        "print(1, \"\\t\" , round(8.53214794,1))\n",
        "print(2, \"\\t\" , round(8.53214794,2))\n",
        "print(3, \"\\t\" , round(8.53214794,3))\n",
        "print(4, \"\\t\" , round(8.53214794,4))\n",
        "print(5, \"\\t\" , round(8.53214794,5))\n",
        "print(6, \"\\t\" , round(8.53214794,6))\n",
        "print(7, \"\\t\" , round(8.53214794,7))"
      ],
      "metadata": {
        "colab": {
          "base_uri": "https://localhost:8080/"
        },
        "id": "7JchZbp1spCn",
        "outputId": "5eeba0bd-d35f-4128-a7d6-6c8c05b246fb"
      },
      "execution_count": 41,
      "outputs": [
        {
          "output_type": "stream",
          "name": "stdout",
          "text": [
            "0 \t 9.0\n",
            "1 \t 8.5\n",
            "2 \t 8.53\n",
            "3 \t 8.532\n",
            "4 \t 8.5321\n",
            "5 \t 8.53215\n",
            "6 \t 8.532148\n",
            "7 \t 8.5321479\n"
          ]
        }
      ]
    },
    {
      "cell_type": "code",
      "source": [
        "print(\"The approximation of\",8.53214794, \"with\")\n",
        "print(\"decimals\" , \" Result\")\n",
        "for i in range (0,8) : \n",
        "  print(i , \"\\t\" , round(8.53214794,i)) \n",
        "\n",
        "\n"
      ],
      "metadata": {
        "colab": {
          "base_uri": "https://localhost:8080/"
        },
        "id": "ybpa1G1eme_9",
        "outputId": "d8289d37-8efb-4beb-867f-e149ab60b750"
      },
      "execution_count": 40,
      "outputs": [
        {
          "output_type": "stream",
          "name": "stdout",
          "text": [
            "The approximation of 8.53214794 with\n",
            "decimals  Result\n",
            "0 \t 9.0\n",
            "1 \t 8.5\n",
            "2 \t 8.53\n",
            "3 \t 8.532\n",
            "4 \t 8.5321\n",
            "5 \t 8.53215\n",
            "6 \t 8.532148\n",
            "7 \t 8.5321479\n"
          ]
        }
      ]
    },
    {
      "cell_type": "code",
      "source": [
        "print(\"The first\" ,100, \"multiples of\",2, \":\")\n",
        "print(\"multiple\" , \" Result\")\n",
        "for i in range (1,101) : \n",
        "  print(i , \"\\t\" , (2*i)) \n",
        "  \n"
      ],
      "metadata": {
        "colab": {
          "base_uri": "https://localhost:8080/"
        },
        "id": "WxgypiDeswEW",
        "outputId": "fa0ec2a8-6345-45ce-e90f-fd0c7907f81c"
      },
      "execution_count": 49,
      "outputs": [
        {
          "output_type": "stream",
          "name": "stdout",
          "text": [
            "The first 100 multiples of 2 :\n",
            "multiple  Result\n",
            "1 \t 2\n",
            "2 \t 4\n",
            "3 \t 6\n",
            "4 \t 8\n",
            "5 \t 10\n",
            "6 \t 12\n",
            "7 \t 14\n",
            "8 \t 16\n",
            "9 \t 18\n",
            "10 \t 20\n",
            "11 \t 22\n",
            "12 \t 24\n",
            "13 \t 26\n",
            "14 \t 28\n",
            "15 \t 30\n",
            "16 \t 32\n",
            "17 \t 34\n",
            "18 \t 36\n",
            "19 \t 38\n",
            "20 \t 40\n",
            "21 \t 42\n",
            "22 \t 44\n",
            "23 \t 46\n",
            "24 \t 48\n",
            "25 \t 50\n",
            "26 \t 52\n",
            "27 \t 54\n",
            "28 \t 56\n",
            "29 \t 58\n",
            "30 \t 60\n",
            "31 \t 62\n",
            "32 \t 64\n",
            "33 \t 66\n",
            "34 \t 68\n",
            "35 \t 70\n",
            "36 \t 72\n",
            "37 \t 74\n",
            "38 \t 76\n",
            "39 \t 78\n",
            "40 \t 80\n",
            "41 \t 82\n",
            "42 \t 84\n",
            "43 \t 86\n",
            "44 \t 88\n",
            "45 \t 90\n",
            "46 \t 92\n",
            "47 \t 94\n",
            "48 \t 96\n",
            "49 \t 98\n",
            "50 \t 100\n",
            "51 \t 102\n",
            "52 \t 104\n",
            "53 \t 106\n",
            "54 \t 108\n",
            "55 \t 110\n",
            "56 \t 112\n",
            "57 \t 114\n",
            "58 \t 116\n",
            "59 \t 118\n",
            "60 \t 120\n",
            "61 \t 122\n",
            "62 \t 124\n",
            "63 \t 126\n",
            "64 \t 128\n",
            "65 \t 130\n",
            "66 \t 132\n",
            "67 \t 134\n",
            "68 \t 136\n",
            "69 \t 138\n",
            "70 \t 140\n",
            "71 \t 142\n",
            "72 \t 144\n",
            "73 \t 146\n",
            "74 \t 148\n",
            "75 \t 150\n",
            "76 \t 152\n",
            "77 \t 154\n",
            "78 \t 156\n",
            "79 \t 158\n",
            "80 \t 160\n",
            "81 \t 162\n",
            "82 \t 164\n",
            "83 \t 166\n",
            "84 \t 168\n",
            "85 \t 170\n",
            "86 \t 172\n",
            "87 \t 174\n",
            "88 \t 176\n",
            "89 \t 178\n",
            "90 \t 180\n",
            "91 \t 182\n",
            "92 \t 184\n",
            "93 \t 186\n",
            "94 \t 188\n",
            "95 \t 190\n",
            "96 \t 192\n",
            "97 \t 194\n",
            "98 \t 196\n",
            "99 \t 198\n",
            "100 \t 200\n"
          ]
        }
      ]
    }
  ]
}